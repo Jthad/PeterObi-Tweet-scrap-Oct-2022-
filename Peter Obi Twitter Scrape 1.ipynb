{
 "cells": [
  {
   "cell_type": "code",
   "execution_count": 67,
   "id": "f0f767fe",
   "metadata": {},
   "outputs": [
    {
     "name": "stdout",
     "output_type": "stream",
     "text": [
      "Requirement already satisfied: snscrape in c:\\users\\samsung\\anaconda3\\lib\\site-packages (0.4.3.20220106)\n",
      "Requirement already satisfied: lxml in c:\\users\\samsung\\anaconda3\\lib\\site-packages (from snscrape) (4.8.0)\n",
      "Requirement already satisfied: requests[socks] in c:\\users\\samsung\\anaconda3\\lib\\site-packages (from snscrape) (2.27.1)\n",
      "Requirement already satisfied: filelock in c:\\users\\samsung\\anaconda3\\lib\\site-packages (from snscrape) (3.6.0)\n",
      "Requirement already satisfied: beautifulsoup4 in c:\\users\\samsung\\anaconda3\\lib\\site-packages (from snscrape) (4.11.1)\n",
      "Requirement already satisfied: soupsieve>1.2 in c:\\users\\samsung\\anaconda3\\lib\\site-packages (from beautifulsoup4->snscrape) (2.3.1)\n",
      "Requirement already satisfied: urllib3<1.27,>=1.21.1 in c:\\users\\samsung\\anaconda3\\lib\\site-packages (from requests[socks]->snscrape) (1.26.9)\n",
      "Requirement already satisfied: charset-normalizer~=2.0.0 in c:\\users\\samsung\\anaconda3\\lib\\site-packages (from requests[socks]->snscrape) (2.0.4)\n",
      "Requirement already satisfied: idna<4,>=2.5 in c:\\users\\samsung\\anaconda3\\lib\\site-packages (from requests[socks]->snscrape) (3.3)\n",
      "Requirement already satisfied: certifi>=2017.4.17 in c:\\users\\samsung\\anaconda3\\lib\\site-packages (from requests[socks]->snscrape) (2021.10.8)\n",
      "Requirement already satisfied: PySocks!=1.5.7,>=1.5.6 in c:\\users\\samsung\\anaconda3\\lib\\site-packages (from requests[socks]->snscrape) (1.7.1)\n"
     ]
    }
   ],
   "source": [
    "!pip install snscrape"
   ]
  },
  {
   "cell_type": "markdown",
   "id": "7f8246e2",
   "metadata": {},
   "source": [
    "### Import the necessary libraries"
   ]
  },
  {
   "cell_type": "code",
   "execution_count": 168,
   "id": "86cb6613",
   "metadata": {},
   "outputs": [],
   "source": [
    "import pandas as pd\n",
    "import snscrape.modules.twitter as sntwitter\n",
    "import time"
   ]
  },
  {
   "cell_type": "markdown",
   "id": "318c9042",
   "metadata": {},
   "source": [
    "### Collection of Data from Twitter"
   ]
  },
  {
   "cell_type": "code",
   "execution_count": 177,
   "id": "2f709f1d",
   "metadata": {},
   "outputs": [],
   "source": [
    "query = \"(PeterObi)\"\n",
    "tweets = []\n",
    "limit = 1000\n",
    "\n",
    "for i, tweet in enumerate(sntwitter.TwitterSearchScraper('from:PeterObi since:2022-10-01 until:2022-11-01').get_items()):\n",
    "    \n",
    "    if len(tweets) == limit:\n",
    "        break\n",
    "    else:\n",
    "        tweets.append([tweet.date, tweet.url, tweet.user.username, tweet.sourceLabel, tweet.user.location, tweet.content, tweet.likeCount, tweet.retweetCount,  tweet.quoteCount, tweet.replyCount])\n",
    "        \n",
    "df = pd.DataFrame(tweets, columns=['Date', 'TweetURL','User', 'Source', 'Location', 'Tweet', 'Likes_Count','Retweet_Count', 'Quote_Count', 'Reply_Count'])\n",
    "\n",
    "df.to_csv('peterobi_tweets.csv')"
   ]
  },
  {
   "cell_type": "markdown",
   "id": "018172c7",
   "metadata": {},
   "source": [
    "### View Data"
   ]
  },
  {
   "cell_type": "code",
   "execution_count": 179,
   "id": "8a828fdd",
   "metadata": {},
   "outputs": [
    {
     "data": {
      "text/html": [
       "<div>\n",
       "<style scoped>\n",
       "    .dataframe tbody tr th:only-of-type {\n",
       "        vertical-align: middle;\n",
       "    }\n",
       "\n",
       "    .dataframe tbody tr th {\n",
       "        vertical-align: top;\n",
       "    }\n",
       "\n",
       "    .dataframe thead th {\n",
       "        text-align: right;\n",
       "    }\n",
       "</style>\n",
       "<table border=\"1\" class=\"dataframe\">\n",
       "  <thead>\n",
       "    <tr style=\"text-align: right;\">\n",
       "      <th></th>\n",
       "      <th>Date</th>\n",
       "      <th>TweetURL</th>\n",
       "      <th>User</th>\n",
       "      <th>Source</th>\n",
       "      <th>Location</th>\n",
       "      <th>Tweet</th>\n",
       "      <th>Likes_Count</th>\n",
       "      <th>Retweet_Count</th>\n",
       "      <th>Quote_Count</th>\n",
       "      <th>Reply_Count</th>\n",
       "    </tr>\n",
       "  </thead>\n",
       "  <tbody>\n",
       "    <tr>\n",
       "      <th>363</th>\n",
       "      <td>2022-10-01 09:47:15+00:00</td>\n",
       "      <td>https://twitter.com/PeterObi/status/1576146719...</td>\n",
       "      <td>PeterObi</td>\n",
       "      <td>Twitter for Android</td>\n",
       "      <td>Nigeria</td>\n",
       "      <td>are further burdened by new forms of disruptiv...</td>\n",
       "      <td>3591</td>\n",
       "      <td>1137</td>\n",
       "      <td>1</td>\n",
       "      <td>11</td>\n",
       "    </tr>\n",
       "    <tr>\n",
       "      <th>364</th>\n",
       "      <td>2022-10-01 09:47:14+00:00</td>\n",
       "      <td>https://twitter.com/PeterObi/status/1576146714...</td>\n",
       "      <td>PeterObi</td>\n",
       "      <td>Twitter for Android</td>\n",
       "      <td>Nigeria</td>\n",
       "      <td>replete with insecurity, worsening economy, co...</td>\n",
       "      <td>3773</td>\n",
       "      <td>1197</td>\n",
       "      <td>1</td>\n",
       "      <td>14</td>\n",
       "    </tr>\n",
       "    <tr>\n",
       "      <th>365</th>\n",
       "      <td>2022-10-01 09:47:13+00:00</td>\n",
       "      <td>https://twitter.com/PeterObi/status/1576146710...</td>\n",
       "      <td>PeterObi</td>\n",
       "      <td>Twitter for Android</td>\n",
       "      <td>Nigeria</td>\n",
       "      <td>Such people can hardly fathom the concept of i...</td>\n",
       "      <td>4520</td>\n",
       "      <td>1442</td>\n",
       "      <td>9</td>\n",
       "      <td>35</td>\n",
       "    </tr>\n",
       "    <tr>\n",
       "      <th>366</th>\n",
       "      <td>2022-10-01 09:47:12+00:00</td>\n",
       "      <td>https://twitter.com/PeterObi/status/1576146705...</td>\n",
       "      <td>PeterObi</td>\n",
       "      <td>Twitter for Android</td>\n",
       "      <td>Nigeria</td>\n",
       "      <td>frustrated and tired of the many years of lead...</td>\n",
       "      <td>5703</td>\n",
       "      <td>1758</td>\n",
       "      <td>10</td>\n",
       "      <td>76</td>\n",
       "    </tr>\n",
       "    <tr>\n",
       "      <th>367</th>\n",
       "      <td>2022-10-01 09:47:11+00:00</td>\n",
       "      <td>https://twitter.com/PeterObi/status/1576146702...</td>\n",
       "      <td>PeterObi</td>\n",
       "      <td>Twitter for Android</td>\n",
       "      <td>Nigeria</td>\n",
       "      <td>Fellow Nigerians, as our dear country marks he...</td>\n",
       "      <td>55860</td>\n",
       "      <td>16586</td>\n",
       "      <td>475</td>\n",
       "      <td>1811</td>\n",
       "    </tr>\n",
       "  </tbody>\n",
       "</table>\n",
       "</div>"
      ],
      "text/plain": [
       "                         Date  \\\n",
       "363 2022-10-01 09:47:15+00:00   \n",
       "364 2022-10-01 09:47:14+00:00   \n",
       "365 2022-10-01 09:47:13+00:00   \n",
       "366 2022-10-01 09:47:12+00:00   \n",
       "367 2022-10-01 09:47:11+00:00   \n",
       "\n",
       "                                              TweetURL      User  \\\n",
       "363  https://twitter.com/PeterObi/status/1576146719...  PeterObi   \n",
       "364  https://twitter.com/PeterObi/status/1576146714...  PeterObi   \n",
       "365  https://twitter.com/PeterObi/status/1576146710...  PeterObi   \n",
       "366  https://twitter.com/PeterObi/status/1576146705...  PeterObi   \n",
       "367  https://twitter.com/PeterObi/status/1576146702...  PeterObi   \n",
       "\n",
       "                  Source Location  \\\n",
       "363  Twitter for Android  Nigeria   \n",
       "364  Twitter for Android  Nigeria   \n",
       "365  Twitter for Android  Nigeria   \n",
       "366  Twitter for Android  Nigeria   \n",
       "367  Twitter for Android  Nigeria   \n",
       "\n",
       "                                                 Tweet  Likes_Count  \\\n",
       "363  are further burdened by new forms of disruptiv...         3591   \n",
       "364  replete with insecurity, worsening economy, co...         3773   \n",
       "365  Such people can hardly fathom the concept of i...         4520   \n",
       "366  frustrated and tired of the many years of lead...         5703   \n",
       "367  Fellow Nigerians, as our dear country marks he...        55860   \n",
       "\n",
       "     Retweet_Count  Quote_Count  Reply_Count  \n",
       "363           1137            1           11  \n",
       "364           1197            1           14  \n",
       "365           1442            9           35  \n",
       "366           1758           10           76  \n",
       "367          16586          475         1811  "
      ]
     },
     "execution_count": 179,
     "metadata": {},
     "output_type": "execute_result"
    }
   ],
   "source": [
    "df.tail()"
   ]
  },
  {
   "cell_type": "code",
   "execution_count": null,
   "id": "5331dfa7",
   "metadata": {},
   "outputs": [],
   "source": []
  }
 ],
 "metadata": {
  "kernelspec": {
   "display_name": "Python 3 (ipykernel)",
   "language": "python",
   "name": "python3"
  },
  "language_info": {
   "codemirror_mode": {
    "name": "ipython",
    "version": 3
   },
   "file_extension": ".py",
   "mimetype": "text/x-python",
   "name": "python",
   "nbconvert_exporter": "python",
   "pygments_lexer": "ipython3",
   "version": "3.9.12"
  }
 },
 "nbformat": 4,
 "nbformat_minor": 5
}
